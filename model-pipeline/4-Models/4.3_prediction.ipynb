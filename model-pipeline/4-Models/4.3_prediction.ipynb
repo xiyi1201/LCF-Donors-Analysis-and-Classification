{
 "cells": [
  {
   "cell_type": "code",
   "execution_count": null,
   "metadata": {},
   "outputs": [],
   "source": [
    "#load bestmodel\n",
    "#predict with best model\n",
    "#iloc "
   ]
  },
  {
   "cell_type": "markdown",
   "metadata": {},
   "source": [
    "# **Import Data**"
   ]
  },
  {
   "cell_type": "markdown",
   "metadata": {},
   "source": [
    "## input file Path below "
   ]
  },
  {
   "cell_type": "code",
   "execution_count": null,
   "metadata": {},
   "outputs": [],
   "source": [
    "data_name='data_new.csv'"
   ]
  },
  {
   "cell_type": "code",
   "execution_count": null,
   "metadata": {},
   "outputs": [],
   "source": [
    "import pandas as pd\n",
    "import numpy as np"
   ]
  },
  {
   "cell_type": "code",
   "execution_count": null,
   "metadata": {},
   "outputs": [],
   "source": [
    "data_new = pd.read_csv(data_name)"
   ]
  },
  {
   "cell_type": "code",
   "execution_count": null,
   "metadata": {},
   "outputs": [],
   "source": [
    "#pred\n",
    "# Load the model from disk\n",
    "import pickle\n",
    "filename = 'final_l2_model.sav'\n",
    "loaded_model = pickle.load(open(filename, 'rb'))\n",
    "X = data_new[['total_gift', 'Total Gift Times', 'total_event', 'types_of_event',\n",
    "       'Avg_Events_Per_Year', 'Num_Different_Zips',\n",
    "       'Gift Amount_y_avg_10_years', 'total_event_10',\n",
    "       'Constituency Code_Board of Directors',\n",
    "       'Constituency Code_Business/Corporation',\n",
    "       'Constituency Code_Foundation', 'Constituency Code_Government',\n",
    "       'Constituency Code_Individual',\n",
    "       'Constituency Code_Organization/Institution',\n",
    "       'Constituency Code_Parent/Family/Guardian',\n",
    "       'Constituency Code_Staff',\n",
    "       'Constituency Code_Trusts/Estates', 'Constituency Code_Vendor',\n",
    "       'Constituency Code_Volunteer', 'location_Not Chicago','location_Chicago', 'County_Cook County',\n",
    "       'County_Dupage County', 'County_Kane County', 'County_Lake County', 'County_Mchenry County', \n",
    "       'County_Other Illinois County', 'County_Other US County']]\n",
    "# Use the loaded model to make predictions\n",
    "predictions = loaded_model.predict(X)  # Assuming X_new is your new input data\n"
   ]
  }
 ],
 "metadata": {
  "language_info": {
   "name": "python"
  }
 },
 "nbformat": 4,
 "nbformat_minor": 2
}
